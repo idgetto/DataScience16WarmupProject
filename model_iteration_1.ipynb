{
 "cells": [
  {
   "cell_type": "markdown",
   "metadata": {},
   "source": [
    "## Model Iteration 1"
   ]
  },
  {
   "cell_type": "markdown",
   "metadata": {},
   "source": [
    "### Data Cleaning"
   ]
  },
  {
   "cell_type": "code",
   "execution_count": 182,
   "metadata": {
    "collapsed": false
   },
   "outputs": [
    {
     "data": {
      "text/html": [
       "<div>\n",
       "<table border=\"1\" class=\"dataframe\">\n",
       "  <thead>\n",
       "    <tr style=\"text-align: right;\">\n",
       "      <th></th>\n",
       "      <th>PassengerId</th>\n",
       "      <th>Survived</th>\n",
       "      <th>Pclass</th>\n",
       "      <th>Age</th>\n",
       "      <th>SibSp</th>\n",
       "      <th>Parch</th>\n",
       "      <th>Fare</th>\n",
       "    </tr>\n",
       "  </thead>\n",
       "  <tbody>\n",
       "    <tr>\n",
       "      <th>count</th>\n",
       "      <td>891.000000</td>\n",
       "      <td>891.000000</td>\n",
       "      <td>891.000000</td>\n",
       "      <td>714.000000</td>\n",
       "      <td>891.000000</td>\n",
       "      <td>891.000000</td>\n",
       "      <td>891.000000</td>\n",
       "    </tr>\n",
       "    <tr>\n",
       "      <th>mean</th>\n",
       "      <td>446.000000</td>\n",
       "      <td>0.383838</td>\n",
       "      <td>2.308642</td>\n",
       "      <td>29.699118</td>\n",
       "      <td>0.523008</td>\n",
       "      <td>0.381594</td>\n",
       "      <td>32.204208</td>\n",
       "    </tr>\n",
       "    <tr>\n",
       "      <th>std</th>\n",
       "      <td>257.353842</td>\n",
       "      <td>0.486592</td>\n",
       "      <td>0.836071</td>\n",
       "      <td>14.526497</td>\n",
       "      <td>1.102743</td>\n",
       "      <td>0.806057</td>\n",
       "      <td>49.693429</td>\n",
       "    </tr>\n",
       "    <tr>\n",
       "      <th>min</th>\n",
       "      <td>1.000000</td>\n",
       "      <td>0.000000</td>\n",
       "      <td>1.000000</td>\n",
       "      <td>0.420000</td>\n",
       "      <td>0.000000</td>\n",
       "      <td>0.000000</td>\n",
       "      <td>0.000000</td>\n",
       "    </tr>\n",
       "    <tr>\n",
       "      <th>25%</th>\n",
       "      <td>223.500000</td>\n",
       "      <td>0.000000</td>\n",
       "      <td>2.000000</td>\n",
       "      <td>20.125000</td>\n",
       "      <td>0.000000</td>\n",
       "      <td>0.000000</td>\n",
       "      <td>7.910400</td>\n",
       "    </tr>\n",
       "    <tr>\n",
       "      <th>50%</th>\n",
       "      <td>446.000000</td>\n",
       "      <td>0.000000</td>\n",
       "      <td>3.000000</td>\n",
       "      <td>28.000000</td>\n",
       "      <td>0.000000</td>\n",
       "      <td>0.000000</td>\n",
       "      <td>14.454200</td>\n",
       "    </tr>\n",
       "    <tr>\n",
       "      <th>75%</th>\n",
       "      <td>668.500000</td>\n",
       "      <td>1.000000</td>\n",
       "      <td>3.000000</td>\n",
       "      <td>38.000000</td>\n",
       "      <td>1.000000</td>\n",
       "      <td>0.000000</td>\n",
       "      <td>31.000000</td>\n",
       "    </tr>\n",
       "    <tr>\n",
       "      <th>max</th>\n",
       "      <td>891.000000</td>\n",
       "      <td>1.000000</td>\n",
       "      <td>3.000000</td>\n",
       "      <td>80.000000</td>\n",
       "      <td>8.000000</td>\n",
       "      <td>6.000000</td>\n",
       "      <td>512.329200</td>\n",
       "    </tr>\n",
       "  </tbody>\n",
       "</table>\n",
       "</div>"
      ],
      "text/plain": [
       "       PassengerId    Survived      Pclass         Age       SibSp  \\\n",
       "count   891.000000  891.000000  891.000000  714.000000  891.000000   \n",
       "mean    446.000000    0.383838    2.308642   29.699118    0.523008   \n",
       "std     257.353842    0.486592    0.836071   14.526497    1.102743   \n",
       "min       1.000000    0.000000    1.000000    0.420000    0.000000   \n",
       "25%     223.500000    0.000000    2.000000   20.125000    0.000000   \n",
       "50%     446.000000    0.000000    3.000000   28.000000    0.000000   \n",
       "75%     668.500000    1.000000    3.000000   38.000000    1.000000   \n",
       "max     891.000000    1.000000    3.000000   80.000000    8.000000   \n",
       "\n",
       "            Parch        Fare  \n",
       "count  891.000000  891.000000  \n",
       "mean     0.381594   32.204208  \n",
       "std      0.806057   49.693429  \n",
       "min      0.000000    0.000000  \n",
       "25%      0.000000    7.910400  \n",
       "50%      0.000000   14.454200  \n",
       "75%      0.000000   31.000000  \n",
       "max      6.000000  512.329200  "
      ]
     },
     "execution_count": 182,
     "metadata": {},
     "output_type": "execute_result"
    }
   ],
   "source": [
    "import pandas as pd\n",
    "df = pd.read_csv('data/train.csv')\n",
    "df.describe()"
   ]
  },
  {
   "cell_type": "markdown",
   "metadata": {},
   "source": [
    "Let's first check for columns with missing values."
   ]
  },
  {
   "cell_type": "code",
   "execution_count": 183,
   "metadata": {
    "collapsed": false
   },
   "outputs": [
    {
     "data": {
      "text/plain": [
       "PassengerId      0\n",
       "Survived         0\n",
       "Pclass           0\n",
       "Name             0\n",
       "Sex              0\n",
       "Age            177\n",
       "SibSp            0\n",
       "Parch            0\n",
       "Ticket           0\n",
       "Fare             0\n",
       "Cabin          687\n",
       "Embarked         2\n",
       "dtype: int64"
      ]
     },
     "execution_count": 183,
     "metadata": {},
     "output_type": "execute_result"
    }
   ],
   "source": [
    "df.isnull().sum()"
   ]
  },
  {
   "cell_type": "markdown",
   "metadata": {},
   "source": [
    "Since the **Age** column is missing data, let's impute it with the median value."
   ]
  },
  {
   "cell_type": "code",
   "execution_count": 184,
   "metadata": {
    "collapsed": true
   },
   "outputs": [],
   "source": [
    "def clean_age(data_frame):\n",
    "    data_frame['Age'] = data_frame.Age.fillna(data_frame.Age.median())"
   ]
  },
  {
   "cell_type": "markdown",
   "metadata": {},
   "source": [
    "The next significant feature is **Sex**."
   ]
  },
  {
   "cell_type": "code",
   "execution_count": 185,
   "metadata": {
    "collapsed": false
   },
   "outputs": [
    {
     "data": {
      "text/plain": [
       "array(['male', 'female'], dtype=object)"
      ]
     },
     "execution_count": 185,
     "metadata": {},
     "output_type": "execute_result"
    }
   ],
   "source": [
    "df.Sex.unique()"
   ]
  },
  {
   "cell_type": "markdown",
   "metadata": {},
   "source": [
    "Let's convert Sex to an binary representation."
   ]
  },
  {
   "cell_type": "code",
   "execution_count": 186,
   "metadata": {
    "collapsed": false
   },
   "outputs": [],
   "source": [
    "def clean_sex(data_frame):\n",
    "    data_frame['Sex'] = data_frame.Sex.apply(lambda sex: int(sex == 'female'))"
   ]
  },
  {
   "cell_type": "markdown",
   "metadata": {},
   "source": [
    "The next feature is **Embarked**."
   ]
  },
  {
   "cell_type": "code",
   "execution_count": 187,
   "metadata": {
    "collapsed": false
   },
   "outputs": [
    {
     "data": {
      "text/plain": [
       "array(['S', 'C', 'Q', nan], dtype=object)"
      ]
     },
     "execution_count": 187,
     "metadata": {},
     "output_type": "execute_result"
    }
   ],
   "source": [
    "df.Embarked.unique()"
   ]
  },
  {
   "cell_type": "code",
   "execution_count": 188,
   "metadata": {
    "collapsed": false
   },
   "outputs": [],
   "source": [
    "def clean_embarked(data_frame):\n",
    "    data_frame['Embarked'] = data_frame.Embarked.fillna(data_frame.Embarked.mode().values[0])\n",
    "\n",
    "    mapping = {'S': 1, 'C': 2, 'Q': 3}\n",
    "    data_frame['Embarked'] = data_frame.Embarked.apply(lambda port: mapping[port])"
   ]
  },
  {
   "cell_type": "code",
   "execution_count": 189,
   "metadata": {
    "collapsed": false
   },
   "outputs": [],
   "source": [
    "def clean_data(data_frame):\n",
    "    clean_age(data_frame)\n",
    "    clean_sex(data_frame)\n",
    "    clean_embarked(data_frame)\n",
    "    \n",
    "clean_data(df)"
   ]
  },
  {
   "cell_type": "markdown",
   "metadata": {},
   "source": [
    "### Learning"
   ]
  },
  {
   "cell_type": "markdown",
   "metadata": {},
   "source": [
    "#### Cross Validation"
   ]
  },
  {
   "cell_type": "code",
   "execution_count": 190,
   "metadata": {
    "collapsed": false
   },
   "outputs": [
    {
     "name": "stdout",
     "output_type": "stream",
     "text": [
      "0.789001122334\n"
     ]
    }
   ],
   "source": [
    "from sklearn import cross_validation\n",
    "from sklearn.linear_model import LogisticRegression\n",
    "\n",
    "def cross_validate(data_frame, predictors):\n",
    "    # Use the LogisticRegression classifier\n",
    "    clf = LogisticRegression()\n",
    "    \n",
    "    X = data_frame[predictors]\n",
    "    y = df.Survived\n",
    "    \n",
    "    # Cross validate over three folds\n",
    "    scores = cross_validation.cross_val_score(clf, X, y, cv=3)\n",
    "    return scores.mean()\n",
    "\n",
    "predictors = ['Sex', 'Age', 'Pclass']\n",
    "score = cross_validate(df, predictors)\n",
    "\n",
    "print score"
   ]
  },
  {
   "cell_type": "markdown",
   "metadata": {},
   "source": [
    "#### Predict"
   ]
  },
  {
   "cell_type": "code",
   "execution_count": 191,
   "metadata": {
    "collapsed": false
   },
   "outputs": [],
   "source": [
    "# Read the data\n",
    "test = pd.read_csv('data/test.csv')\n",
    "train = pd.read_csv('data/train.csv')\n",
    "\n",
    "# Clean the training data\n",
    "clean_data(train)\n",
    "\n",
    "# Train\n",
    "clf = LogisticRegression()\n",
    "clf.fit(train[predictors], train.Survived)\n",
    "\n",
    "# Clean the test data\n",
    "clean_data(test)\n",
    "\n",
    "# Predict\n",
    "y_pred = clf.predict(test[predictors])\n",
    "\n",
    "# Record Results\n",
    "results = pd.DataFrame({\n",
    "    'PassengerId': test.PassengerId,\n",
    "    'Survived': y_pred        \n",
    "})\n",
    "\n",
    "results.to_csv('results.csv', index=False)"
   ]
  },
  {
   "cell_type": "markdown",
   "metadata": {},
   "source": [
    "Kaggle Results: 0.76077"
   ]
  },
  {
   "cell_type": "markdown",
   "metadata": {},
   "source": [
    "### Revision 1"
   ]
  },
  {
   "cell_type": "markdown",
   "metadata": {},
   "source": [
    "In this revision I'll separate the embarked column into three dummy columns, one for each port."
   ]
  },
  {
   "cell_type": "code",
   "execution_count": 192,
   "metadata": {
    "collapsed": false
   },
   "outputs": [],
   "source": [
    "train = pd.read_csv('data/train.csv')\n",
    "clean_data(train)"
   ]
  },
  {
   "cell_type": "code",
   "execution_count": 193,
   "metadata": {
    "collapsed": false
   },
   "outputs": [],
   "source": [
    "def make_embarked_dummy(data_frame):\n",
    "    data_frame['EmbarkedS'] = data_frame['EmbarkedC'] = data_frame['EmbarkedQ'] = 0\n",
    "    \n",
    "    data_frame.loc[data_frame.Embarked == 1, 'EmbarkedS'] = 1\n",
    "    data_frame.loc[data_frame.Embarked == 2, 'EmbarkedC'] = 1\n",
    "    data_frame.loc[data_frame.Embarked == 3, 'EmbarkedQ'] = 1\n",
    "\n",
    "make_embarked_dummy(train)"
   ]
  },
  {
   "cell_type": "markdown",
   "metadata": {},
   "source": [
    "Is there any improvement in the cross validation score?"
   ]
  },
  {
   "cell_type": "code",
   "execution_count": 194,
   "metadata": {
    "collapsed": false
   },
   "outputs": [
    {
     "name": "stdout",
     "output_type": "stream",
     "text": [
      "Score: 0.786756, Improvement: -0.002245\n"
     ]
    }
   ],
   "source": [
    "predictors = ['Sex', 'Age', 'Pclass', 'EmbarkedS', 'EmbarkedQ', 'EmbarkedC']\n",
    "score_with_dummies = cross_validate(train, predictors)\n",
    "\n",
    "print \"Score: %f, Improvement: %f\" % (score_with_dummies, score_with_dummies - score)"
   ]
  },
  {
   "cell_type": "markdown",
   "metadata": {},
   "source": [
    "Unfortunately, the score did not improve. The additional features may have added increased dimensional complexity without providing much useful information."
   ]
  },
  {
   "cell_type": "code",
   "execution_count": 195,
   "metadata": {
    "collapsed": false
   },
   "outputs": [],
   "source": [
    "# Read the data\n",
    "test = pd.read_csv('data/test.csv')\n",
    "train = pd.read_csv('data/train.csv')\n",
    "\n",
    "# Clean the training data\n",
    "clean_data(train)\n",
    "           \n",
    "# Make the dummy columns\n",
    "make_embarked_dummy(train)\n",
    "\n",
    "# Train\n",
    "clf = LogisticRegression()\n",
    "clf.fit(train[predictors], train.Survived)\n",
    "\n",
    "# Clean the test data\n",
    "clean_data(test)\n",
    "           \n",
    "# Make the dummy columns\n",
    "make_embarked_dummy(test)\n",
    "\n",
    "# Predict\n",
    "y_pred = clf.predict(test[predictors])\n",
    "\n",
    "# Record Results\n",
    "results = pd.DataFrame({\n",
    "    'PassengerId': test.PassengerId,\n",
    "    'Survived': y_pred        \n",
    "})\n",
    "\n",
    "results.to_csv('results.csv', index=False)"
   ]
  },
  {
   "cell_type": "markdown",
   "metadata": {},
   "source": [
    "Kaggle Results: 0.74641, Improvement: -0.014"
   ]
  },
  {
   "cell_type": "markdown",
   "metadata": {},
   "source": [
    "### Revision 2"
   ]
  },
  {
   "cell_type": "markdown",
   "metadata": {},
   "source": [
    "It appears that squaring SibSp may make the survival rates more linear."
   ]
  },
  {
   "cell_type": "code",
   "execution_count": 214,
   "metadata": {
    "collapsed": false
   },
   "outputs": [
    {
     "name": "stdout",
     "output_type": "stream",
     "text": [
      "8\n"
     ]
    },
    {
     "data": {
      "image/png": "[encoded data removed]",
      "text/plain": [
       "<matplotlib.figure.Figure at 0x7f65d83d4b10>"
      ]
     },
     "metadata": {},
     "output_type": "display_data"
    }
   ],
   "source": [
    "import numpy as np\n",
    "import matplotlib.pyplot as plt\n",
    "import math\n",
    "\n",
    "%matplotlib inline\n",
    "\n",
    "x = train.SibSp\n",
    "print x.max()\n",
    "bins = np.linspace(x.min(), x.max(), 8)\n",
    "\n",
    "grouped = df.groupby(np.digitize(x, bins))\n",
    "survival_rates = grouped.Survived.mean()\n",
    "\n",
    "plt.plot(survival_rates, 'bo-')\n",
    "\n",
    "x = train.SibSp.apply(lambda x: x**2)\n",
    "bins = np.linspace(x.min(), x.max(), 8)\n",
    "\n",
    "grouped = df.groupby(np.digitize(x, bins))\n",
    "survival_rates = grouped.Survived.mean()\n",
    "\n",
    "plt.plot(survival_rates, 'ro-')\n",
    "\n",
    "plt.legend(['SibSp', 'SibSp^2'])\n",
    "plt.ylabel('Survival Rate')\n",
    "plt.show()"
   ]
  },
  {
   "cell_type": "code",
   "execution_count": 197,
   "metadata": {
    "collapsed": true
   },
   "outputs": [],
   "source": [
    "train = pd.read_csv('data/train.csv')\n",
    "clean_data(train)"
   ]
  },
  {
   "cell_type": "code",
   "execution_count": 198,
   "metadata": {
    "collapsed": true
   },
   "outputs": [],
   "source": [
    "train['SibSp2'] = train.SibSp ** 2"
   ]
  },
  {
   "cell_type": "code",
   "execution_count": 199,
   "metadata": {
    "collapsed": false
   },
   "outputs": [
    {
     "name": "stdout",
     "output_type": "stream",
     "text": [
      "Score: 0.794613, Improvement: 0.005612\n"
     ]
    }
   ],
   "source": [
    "predictors = ['Sex', 'Age', 'Pclass', 'SibSp2']\n",
    "score_sq_sibsp = cross_validate(train, predictors)\n",
    "\n",
    "print \"Score: %f, Improvement: %f\" % (score_sq_sibsp, score_sq_sibsp - score)"
   ]
  },
  {
   "cell_type": "code",
   "execution_count": 203,
   "metadata": {
    "collapsed": true
   },
   "outputs": [],
   "source": [
    "# Read the data\n",
    "test = pd.read_csv('data/test.csv')\n",
    "train = pd.read_csv('data/train.csv')\n",
    "\n",
    "# Clean the training data\n",
    "clean_data(train)\n",
    "           \n",
    "# Square SibSp\n",
    "train['SibSp2'] = train.SibSp ** 2\n",
    "\n",
    "# Train\n",
    "clf = LogisticRegression()\n",
    "clf.fit(train[predictors], train.Survived)\n",
    "\n",
    "# Clean the test data\n",
    "clean_data(test)\n",
    "           \n",
    "# Square SibSp\n",
    "test['SibSp2'] = test.SibSp ** 2\n",
    "\n",
    "# Predict\n",
    "y_pred = clf.predict(test[predictors])\n",
    "\n",
    "# Record Results\n",
    "results = pd.DataFrame({\n",
    "    'PassengerId': test.PassengerId,\n",
    "    'Survived': y_pred        \n",
    "})\n",
    "\n",
    "results.to_csv('results.csv', index=False)"
   ]
  },
  {
   "cell_type": "markdown",
   "metadata": {},
   "source": [
    "Kaggle Results: 0.75120, Improvement: -0.0095"
   ]
  }
 ],
 "metadata": {
  "kernelspec": {
   "display_name": "Python 2",
   "language": "python",
   "name": "python2"
  },
  "language_info": {
   "codemirror_mode": {
    "name": "ipython",
    "version": 2
   },
   "file_extension": ".py",
   "mimetype": "text/x-python",
   "name": "python",
   "nbconvert_exporter": "python",
   "pygments_lexer": "ipython2",
   "version": "2.7.11"
  }
 },
 "nbformat": 4,
 "nbformat_minor": 0
}
