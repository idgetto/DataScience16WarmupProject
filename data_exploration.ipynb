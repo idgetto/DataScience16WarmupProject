{
 "cells": [
  {
   "cell_type": "markdown",
   "metadata": {},
   "source": [
    "##Titanic Data Exploration\n",
    "\n",
    "In this notebook, I'll try to understand what factors impact the survival of passengers on the Titanic."
   ]
  },
  {
   "cell_type": "markdown",
   "metadata": {},
   "source": [
    "###Setup\n",
    "\n",
    "Before I begin, I'll load my data."
   ]
  },
  {
   "cell_type": "code",
   "execution_count": 1,
   "metadata": {
    "collapsed": false
   },
   "outputs": [
    {
     "name": "stdout",
     "output_type": "stream",
     "text": [
      "Index([u'PassengerId', u'Survived', u'Pclass', u'Name', u'Sex', u'Age',\n",
      "       u'SibSp', u'Parch', u'Ticket', u'Fare', u'Cabin', u'Embarked'],\n",
      "      dtype='object')\n"
     ]
    }
   ],
   "source": [
    "import pandas as pd\n",
    "train = pd.read_csv('data/train.csv')\n",
    "\n",
    "print train.columns"
   ]
  },
  {
   "cell_type": "markdown",
   "metadata": {},
   "source": [
    "Are there any missing values?"
   ]
  },
  {
   "cell_type": "code",
   "execution_count": 2,
   "metadata": {
    "collapsed": false
   },
   "outputs": [
    {
     "name": "stdout",
     "output_type": "stream",
     "text": [
      "PassengerId      0\n",
      "Survived         0\n",
      "Pclass           0\n",
      "Name             0\n",
      "Sex              0\n",
      "Age            177\n",
      "SibSp            0\n",
      "Parch            0\n",
      "Ticket           0\n",
      "Fare             0\n",
      "Cabin          687\n",
      "Embarked         2\n",
      "dtype: int64\n"
     ]
    }
   ],
   "source": [
    "print train.isnull().sum()"
   ]
  },
  {
   "cell_type": "markdown",
   "metadata": {},
   "source": [
    "###Preconceptions\n",
    "\n",
    "I'll start by looking into the factors that I expect to be important. I've always heard that women and children get priority in a sinking ship situation, so those will be the first features I'll explore."
   ]
  },
  {
   "cell_type": "markdown",
   "metadata": {},
   "source": [
    "####Women\n",
    "\n",
    "How do women's survival rate compare to men's?"
   ]
  },
  {
   "cell_type": "code",
   "execution_count": 3,
   "metadata": {
    "collapsed": false
   },
   "outputs": [
    {
     "name": "stdout",
     "output_type": "stream",
     "text": [
      "Sex\n",
      "female    0.742038\n",
      "male      0.188908\n",
      "Name: Survived, dtype: float64\n"
     ]
    }
   ],
   "source": [
    "grouped = train.groupby('Sex')\n",
    "print grouped[\"Survived\"].mean()"
   ]
  },
  {
   "cell_type": "markdown",
   "metadata": {},
   "source": [
    "We can see that women survived about **74%** of the time while men only **19%** of men survived. It seems that sex, as we thought, is an important factor for survival."
   ]
  },
  {
   "cell_type": "markdown",
   "metadata": {},
   "source": [
    "####Children\n",
    "\n",
    "How do children's survival rate compare to the adult's rate?"
   ]
  },
  {
   "cell_type": "code",
   "execution_count": 6,
   "metadata": {
    "collapsed": false
   },
   "outputs": [
    {
     "name": "stdout",
     "output_type": "stream",
     "text": [
      "adult    0.361183\n",
      "child    0.539823\n",
      "Name: Survived, dtype: float64\n"
     ]
    }
   ],
   "source": [
    "def child_adult_grouper(passenger_id):\n",
    "    age = train.loc[passenger_id, 'Age']\n",
    "    if (age < 18):\n",
    "        # Add a column while were at it\n",
    "        train.loc[passenger_id, 'Child'] = 1\n",
    "        return 'child'\n",
    "    else:\n",
    "        # Add a column while were at it\n",
    "        train.loc[passenger_id, 'Child'] = 0\n",
    "        return 'adult'\n",
    "\n",
    "grouped = train.groupby(child_adult_grouper)\n",
    "print grouped[\"Survived\"].mean()"
   ]
  },
  {
   "cell_type": "markdown",
   "metadata": {},
   "source": [
    "We can see that children survived about **54%** of the time while adults only **36%** of men survived. It seems that age, as we thought, is also an important factor for survival."
   ]
  },
  {
   "cell_type": "markdown",
   "metadata": {},
   "source": [
    "I bet young females are most likely to survive."
   ]
  },
  {
   "cell_type": "code",
   "execution_count": 38,
   "metadata": {
    "collapsed": false
   },
   "outputs": [
    {
     "name": "stdout",
     "output_type": "stream",
     "text": [
      "Sample Sizes\n",
      "Sex     Child\n",
      "female  0        259\n",
      "        1         55\n",
      "male    0        519\n",
      "        1         58\n",
      "Name: Survived, dtype: int64\n",
      "\n",
      "-----------------------------\n",
      "\n",
      "Survival Rates\n",
      "Sex     Child\n",
      "female  0        0.752896\n",
      "        1        0.690909\n",
      "male    0        0.165703\n",
      "        1        0.396552\n",
      "Name: Survived, dtype: float64\n"
     ]
    }
   ],
   "source": [
    "grouped = train.groupby(['Sex', 'Child'])\n",
    "\n",
    "# How big is each group?\n",
    "print \"Sample Sizes\"\n",
    "print grouped[\"Survived\"].count()\n",
    "\n",
    "print \"\\n-----------------------------\\n\"\n",
    "\n",
    "# What percent of each group survived\n",
    "print \"Survival Rates\"\n",
    "sex_age_survival = grouped[\"Survived\"].mean()\n",
    "print sex_age_survival"
   ]
  },
  {
   "cell_type": "code",
   "execution_count": 49,
   "metadata": {
    "collapsed": false
   },
   "outputs": [
    {
     "data": {
      "image/png": "[encoded data removed]",
      "text/plain": [
       "<matplotlib.figure.Figure at 0x7f60bdf77310>"
      ]
     },
     "metadata": {},
     "output_type": "display_data"
    }
   ],
   "source": [
    "import matplotlib.pyplot as plt\n",
    "%matplotlib inline\n",
    "\n",
    "sex_age_square = sex_age_survival.values.reshape((2, 2))\n",
    "plt.imshow(sex_age_square, interpolation='nearest')\n",
    "\n",
    "plt.title(\"Sex and Age Survival\")\n",
    "plt.colorbar()\n",
    "plt.xticks([0, 1], ['Adult', 'Child'])\n",
    "plt.yticks([0, 1], ['Female', 'Male'])\n",
    "plt.show()"
   ]
  },
  {
   "cell_type": "markdown",
   "metadata": {},
   "source": [
    "It actually looks like adult females are more likely to survive than young females. On the other hand, young men are more likely to survive than adult men."
   ]
  },
  {
   "cell_type": "markdown",
   "metadata": {},
   "source": [
    "####Socio-Economic Class\n",
    "\n",
    "My last expectation is that passengers from higher classes were more likly to survive."
   ]
  },
  {
   "cell_type": "code",
   "execution_count": 42,
   "metadata": {
    "collapsed": false
   },
   "outputs": [
    {
     "name": "stdout",
     "output_type": "stream",
     "text": [
      "Pclass\n",
      "1    0.629630\n",
      "2    0.472826\n",
      "3    0.242363\n",
      "Name: Survived, dtype: float64\n"
     ]
    }
   ],
   "source": [
    "grouped = train.groupby('Pclass')\n",
    "print grouped['Survived'].mean()"
   ]
  },
  {
   "cell_type": "markdown",
   "metadata": {},
   "source": [
    "It turns out we were right. As a passenger's socio-economic class increases, so does their chance to survive."
   ]
  },
  {
   "cell_type": "markdown",
   "metadata": {},
   "source": [
    "Let's see how likely upper class women were to survive."
   ]
  },
  {
   "cell_type": "code",
   "execution_count": 51,
   "metadata": {
    "collapsed": false
   },
   "outputs": [
    {
     "name": "stdout",
     "output_type": "stream",
     "text": [
      "Sample Sizes\n",
      "Sex     Pclass\n",
      "female  1          94\n",
      "        2          76\n",
      "        3         144\n",
      "male    1         122\n",
      "        2         108\n",
      "        3         347\n",
      "Name: Survived, dtype: int64\n",
      "\n",
      "-----------------------------\n",
      "\n",
      "Survival Rates\n",
      "Sex     Pclass\n",
      "female  1         0.968085\n",
      "        2         0.921053\n",
      "        3         0.500000\n",
      "male    1         0.368852\n",
      "        2         0.157407\n",
      "        3         0.135447\n",
      "Name: Survived, dtype: float64\n"
     ]
    }
   ],
   "source": [
    "grouped = train.groupby(['Sex', 'Pclass'])\n",
    "\n",
    "# How big is each group?\n",
    "print \"Sample Sizes\"\n",
    "print grouped[\"Survived\"].count()\n",
    "\n",
    "print \"\\n-----------------------------\\n\"\n",
    "\n",
    "# What percent of each group survived\n",
    "print \"Survival Rates\"\n",
    "sex_class_survival = grouped[\"Survived\"].mean()\n",
    "print sex_class_survival"
   ]
  },
  {
   "cell_type": "code",
   "execution_count": 50,
   "metadata": {
    "collapsed": false
   },
   "outputs": [
    {
     "data": {
      "image/png": "[encoded data removed]",
      "text/plain": [
       "<matplotlib.figure.Figure at 0x7f60bdf6da50>"
      ]
     },
     "metadata": {},
     "output_type": "display_data"
    }
   ],
   "source": [
    "sex_class_square = sex_class_survival.values.reshape((2, 3))\n",
    "plt.imshow(sex_class_square, interpolation='nearest')\n",
    "\n",
    "plt.title(\"Sex and Class Survival\")\n",
    "plt.colorbar()\n",
    "plt.xticks([0, 1, 2], ['1st Class', '2nd Class', '3rd Class'])\n",
    "plt.yticks([0, 1], ['Female', 'Male'])\n",
    "plt.show()"
   ]
  },
  {
   "cell_type": "markdown",
   "metadata": {},
   "source": [
    "High class females are very likely to survive and low class males are very unlikely to survive"
   ]
  },
  {
   "cell_type": "markdown",
   "metadata": {},
   "source": [
    "It looks like all of our preconceptions were true to some extent."
   ]
  },
  {
   "cell_type": "markdown",
   "metadata": {},
   "source": [
    "##Investigation\n",
    "\n",
    "Now we should look into the rest of the features."
   ]
  },
  {
   "cell_type": "markdown",
   "metadata": {},
   "source": [
    "####SibSp\n",
    "\n",
    "The SibSp column shows the \"Number of Siblings/Spouses Aboard\" the titanic. Let's see how significant it is."
   ]
  },
  {
   "cell_type": "code",
   "execution_count": 63,
   "metadata": {
    "collapsed": false
   },
   "outputs": [
    {
     "name": "stdout",
     "output_type": "stream",
     "text": [
      "SibSp\n",
      "0    0.345395\n",
      "1    0.535885\n",
      "2    0.464286\n",
      "3    0.250000\n",
      "4    0.166667\n",
      "5    0.000000\n",
      "8    0.000000\n",
      "Name: Survived, dtype: float64\n"
     ]
    },
    {
     "data": {
      "image/png": "[encoded data removed]",
      "text/plain": [
       "<matplotlib.figure.Figure at 0x7f60be1df410>"
      ]
     },
     "metadata": {},
     "output_type": "display_data"
    }
   ],
   "source": [
    "grouped = train.groupby('SibSp')\n",
    "sibsp_survival = grouped['Survived'].mean()\n",
    "print sibsp_survival\n",
    "\n",
    "x = range(sibsp_survival.count())\n",
    "y = sibsp_survival.values\n",
    "\n",
    "plt.plot(x, y)\n",
    "plt.title('Sibling and Spouse count vs. Survival Rate')\n",
    "plt.xlabel('Sibling and Spouse count')\n",
    "plt.ylabel('Survival Rate')\n",
    "plt.show()"
   ]
  },
  {
   "cell_type": "markdown",
   "metadata": {},
   "source": [
    "It appears that people with one sibling or spouse are mouse likely to survive. Having more than one sibling or spouse decreases your chances."
   ]
  },
  {
   "cell_type": "markdown",
   "metadata": {},
   "source": [
    "####Parch\n",
    "\n",
    "The Parch column shows the \"Number of Parents/Children Aboard\" the titanic. Let's see how significant it is."
   ]
  },
  {
   "cell_type": "code",
   "execution_count": 64,
   "metadata": {
    "collapsed": false
   },
   "outputs": [
    {
     "name": "stdout",
     "output_type": "stream",
     "text": [
      "Parch\n",
      "0    0.343658\n",
      "1    0.550847\n",
      "2    0.500000\n",
      "3    0.600000\n",
      "4    0.000000\n",
      "5    0.200000\n",
      "6    0.000000\n",
      "Name: Survived, dtype: float64\n"
     ]
    },
    {
     "data": {
      "image/png": "[encoded data removed]",
      "text/plain": [
       "<matplotlib.figure.Figure at 0x7f60bdf2b990>"
      ]
     },
     "metadata": {},
     "output_type": "display_data"
    }
   ],
   "source": [
    "grouped = train.groupby('Parch')\n",
    "parch_survival = grouped['Survived'].mean()\n",
    "print parch_survival\n",
    "\n",
    "x = range(parch_survival.count())\n",
    "y = parch_survival.values\n",
    "\n",
    "plt.plot(x, y)\n",
    "plt.title('Parents and Children count vs. Survival Rate')\n",
    "plt.xlabel('Parents and Children count')\n",
    "plt.ylabel('Survival Rate')\n",
    "plt.show()"
   ]
  },
  {
   "cell_type": "markdown",
   "metadata": {},
   "source": [
    "Survival peaks when a passenger has 3 parents and children."
   ]
  },
  {
   "cell_type": "markdown",
   "metadata": {},
   "source": [
    "####Ticket\n",
    "\n",
    "The Ticket column shows the passenger's Ticket Number. Let's see how it's formatted."
   ]
  },
  {
   "cell_type": "code",
   "execution_count": 288,
   "metadata": {
    "collapsed": false
   },
   "outputs": [
    {
     "name": "stdout",
     "output_type": "stream",
     "text": [
      "681 unique tickets\n"
     ]
    }
   ],
   "source": [
    "unique_tickets = train.Ticket.unique()\n",
    "print \"%d unique tickets\" % len(unique_tickets)"
   ]
  },
  {
   "cell_type": "code",
   "execution_count": 289,
   "metadata": {
    "collapsed": false
   },
   "outputs": [
    {
     "name": "stdout",
     "output_type": "stream",
     "text": [
      "some of the tickets:\n",
      "0            A/5 21171\n",
      "1             PC 17599\n",
      "2     STON/O2. 3101282\n",
      "3               113803\n",
      "4               373450\n",
      "5               330877\n",
      "6                17463\n",
      "7               349909\n",
      "8               347742\n",
      "9               237736\n",
      "10             PP 9549\n",
      "11              113783\n",
      "12           A/5. 2151\n",
      "13              347082\n",
      "14              350406\n",
      "15              248706\n",
      "16              382652\n",
      "17              244373\n",
      "18              345763\n",
      "19                2649\n",
      "20              239865\n",
      "21              248698\n",
      "22              330923\n",
      "23              113788\n",
      "24              349909\n",
      "Name: Ticket, dtype: object\n"
     ]
    }
   ],
   "source": [
    "print \"some of the tickets:\"\n",
    "print train.Ticket[:25]"
   ]
  },
  {
   "cell_type": "markdown",
   "metadata": {},
   "source": [
    "Maybe the numbers are meaningful. Let's extract just the digits."
   ]
  },
  {
   "cell_type": "code",
   "execution_count": 291,
   "metadata": {
    "collapsed": false
   },
   "outputs": [
    {
     "name": "stdout",
     "output_type": "stream",
     "text": [
      "error: LINE\n",
      "error: LINE\n",
      "error: LINE\n",
      "error: LINE\n",
      "\n",
      "Some of the ticket numbers:\n",
      "0       521171\n",
      "1        17599\n",
      "2     23101282\n",
      "3       113803\n",
      "4       373450\n",
      "5       330877\n",
      "6        17463\n",
      "7       349909\n",
      "8       347742\n",
      "9       237736\n",
      "10        9549\n",
      "11      113783\n",
      "12       52151\n",
      "13      347082\n",
      "14      350406\n",
      "15      248706\n",
      "16      382652\n",
      "17      244373\n",
      "18      345763\n",
      "19        2649\n",
      "20      239865\n",
      "21      248698\n",
      "22      330923\n",
      "23      113788\n",
      "24      349909\n",
      "Name: TicketNum, dtype: float64\n"
     ]
    }
   ],
   "source": [
    "import re\n",
    "regex = re.compile('[^\\d]')\n",
    "\n",
    "def get_ticket_num(ticket):\n",
    "    # remove everything but digits\n",
    "    num = regex.sub('', ticket)\n",
    "    try:\n",
    "        return int(num)\n",
    "    except ValueError:\n",
    "        print \"error:\", ticket\n",
    "\n",
    "train['TicketNum'] = train.Ticket.apply(get_ticket_num)\n",
    "\n",
    "print \"\\nSome of the ticket numbers:\"\n",
    "print train.TicketNum[:25]"
   ]
  },
  {
   "cell_type": "markdown",
   "metadata": {},
   "source": [
    "Now that we have the digit component of the ticket, let's see if the numerical ordering of the tickets relates to a passenger's survival."
   ]
  },
  {
   "cell_type": "code",
   "execution_count": 212,
   "metadata": {
    "collapsed": false
   },
   "outputs": [
    {
     "data": {
      "image/png": "[encoded data removed]",
      "text/plain": [
       "<matplotlib.figure.Figure at 0x7f60bdc77a50>"
      ]
     },
     "metadata": {},
     "output_type": "display_data"
    }
   ],
   "source": [
    "def group_by_n_rows(nrows, df):\n",
    "    groups = []\n",
    "    for index in range(0, len(df), nrows):\n",
    "        group = df[index:index+nrows]\n",
    "        groups.append(group)\n",
    "    return groups\n",
    "\n",
    "groups = group_by_n_rows(50, train_ticket_order)\n",
    "survival_rates = [group.Survived.mean() for group in groups]\n",
    "    \n",
    "x = range(len(survival_rates))\n",
    "plt.plot(x, survival_rates)\n",
    "\n",
    "plt.title('Ticket Number Order vs. Survival Rate')\n",
    "plt.ylabel('Survival Rate')\n",
    "plt.xlabel('Ticket Number Order')\n",
    "\n",
    "plt.show()"
   ]
  },
  {
   "cell_type": "markdown",
   "metadata": {},
   "source": [
    "It appears that the average survival rate peaks around group 4. This group corresponds the the people with the 200-250th ticket."
   ]
  },
  {
   "cell_type": "markdown",
   "metadata": {},
   "source": [
    "####Fare\n",
    "\n",
    "Based on our finding that upper class passengers were more likely to survive, I bet people who payed higher fares also were more fortunate."
   ]
  },
  {
   "cell_type": "code",
   "execution_count": 107,
   "metadata": {
    "collapsed": false
   },
   "outputs": [
    {
     "name": "stdout",
     "output_type": "stream",
     "text": [
      "count    891.000000\n",
      "mean      32.204208\n",
      "std       49.693429\n",
      "min        0.000000\n",
      "25%        7.910400\n",
      "50%       14.454200\n",
      "75%       31.000000\n",
      "max      512.329200\n",
      "Name: Fare, dtype: float64\n"
     ]
    }
   ],
   "source": [
    "print train.Fare.describe()"
   ]
  },
  {
   "cell_type": "code",
   "execution_count": 293,
   "metadata": {
    "collapsed": false
   },
   "outputs": [
    {
     "name": "stdout",
     "output_type": "stream",
     "text": [
      "Survived\n",
      "0    22.117887\n",
      "1    48.395408\n",
      "Name: Fare, dtype: float64\n"
     ]
    }
   ],
   "source": [
    "grouped = train.groupby('Survived')\n",
    "print grouped.Fare.mean()"
   ]
  },
  {
   "cell_type": "markdown",
   "metadata": {},
   "source": [
    "On average, the survivors paid more than double the fare of unfortunate passengers."
   ]
  },
  {
   "cell_type": "code",
   "execution_count": 297,
   "metadata": {
    "collapsed": false
   },
   "outputs": [
    {
     "data": {
      "image/png": "[encoded data removed]",
      "text/plain": [
       "<matplotlib.figure.Figure at 0x7f60bcc82390>"
      ]
     },
     "metadata": {},
     "output_type": "display_data"
    }
   ],
   "source": [
    "train_fare_order = train.sort_values('Fare')\n",
    "\n",
    "groups = group_by_n_rows(50, train_fare_order)\n",
    "survival_rates = [group.Survived.mean() for group in groups]\n",
    "\n",
    "plt.plot(range(len(survival_rates)), survival_rates)\n",
    "\n",
    "plt.title('Relative Fare vs. Survival Rate')\n",
    "plt.xlabel('Relative Fare')\n",
    "plt.ylabel('Survival Rate')\n",
    "\n",
    "plt.show()"
   ]
  },
  {
   "cell_type": "markdown",
   "metadata": {},
   "source": [
    "Survival rates increase as the passenger's fare increases."
   ]
  },
  {
   "cell_type": "markdown",
   "metadata": {},
   "source": [
    "####Cabin"
   ]
  },
  {
   "cell_type": "code",
   "execution_count": 252,
   "metadata": {
    "collapsed": false
   },
   "outputs": [
    {
     "name": "stdout",
     "output_type": "stream",
     "text": [
      "[nan 'C85' 'C123' 'E46' 'G6' 'C103' 'D56' 'A6' 'C23 C25 C27' 'B78' 'D33'\n",
      " 'B30' 'C52' 'B28' 'C83' 'F33' 'F G73' 'E31' 'A5' 'D10 D12' 'D26' 'C110'\n",
      " 'B58 B60' 'E101' 'F E69' 'D47' 'B86' 'F2' 'C2' 'E33' 'B19' 'A7' 'C49' 'F4'\n",
      " 'A32' 'B4' 'B80' 'A31' 'D36' 'D15' 'C93' 'C78' 'D35' 'C87' 'B77' 'E67'\n",
      " 'B94' 'C125' 'C99' 'C118' 'D7' 'A19' 'B49' 'D' 'C22 C26' 'C106' 'C65'\n",
      " 'E36' 'C54' 'B57 B59 B63 B66' 'C7' 'E34' 'C32' 'B18' 'C124' 'C91' 'E40'\n",
      " 'T' 'C128' 'D37' 'B35' 'E50' 'C82' 'B96 B98' 'E10' 'E44' 'A34' 'C104'\n",
      " 'C111' 'C92' 'E38' 'D21' 'E12' 'E63' 'A14' 'B37' 'C30' 'D20' 'B79' 'E25'\n",
      " 'D46' 'B73' 'C95' 'B38' 'B39' 'B22' 'C86' 'C70' 'A16' 'C101' 'C68' 'A10'\n",
      " 'E68' 'B41' 'A20' 'D19' 'D50' 'D9' 'A23' 'B50' 'A26' 'D48' 'E58' 'C126'\n",
      " 'B71' 'B51 B53 B55' 'D49' 'B5' 'B20' 'F G63' 'C62 C64' 'E24' 'C90' 'C45'\n",
      " 'E8' 'B101' 'D45' 'C46' 'D30' 'E121' 'D11' 'E77' 'F38' 'B3' 'D6' 'B82 B84'\n",
      " 'D17' 'A36' 'B102' 'B69' 'E49' 'C47' 'D28' 'E17' 'A24' 'C50' 'B42' 'C148']\n",
      "\n",
      "Number of null cabins: 687\n"
     ]
    }
   ],
   "source": [
    "print train.Cabin.unique()\n",
    "print \"\\nNumber of null cabins:\", sum(train.Cabin.isnull())"
   ]
  },
  {
   "cell_type": "markdown",
   "metadata": {},
   "source": [
    "Maybe people within the same lettered cabin had similar survival rates."
   ]
  },
  {
   "cell_type": "code",
   "execution_count": 279,
   "metadata": {
    "collapsed": false
   },
   "outputs": [
    {
     "name": "stdout",
     "output_type": "stream",
     "text": [
      "Passengers in each cabin:\n",
      "?    687\n",
      "A     15\n",
      "B     47\n",
      "C     59\n",
      "D     33\n",
      "E     32\n",
      "F     13\n",
      "G      4\n",
      "T      1\n",
      "dtype: int64\n",
      "\n",
      "------------------------\n",
      "\n",
      "Survival Rates:\n",
      "?    0.299854\n",
      "A    0.466667\n",
      "B    0.744681\n",
      "C    0.593220\n",
      "D    0.757576\n",
      "E    0.750000\n",
      "F    0.615385\n",
      "G    0.500000\n",
      "T    0.000000\n",
      "Name: Survived, dtype: float64\n"
     ]
    },
    {
     "data": {
      "image/png": "[encoded data removed]",
      "text/plain": [
       "<matplotlib.figure.Figure at 0x7f60bc728950>"
      ]
     },
     "metadata": {},
     "output_type": "display_data"
    }
   ],
   "source": [
    "import math\n",
    "\n",
    "def cabin_letter_group(passenger_id):\n",
    "    cabin = train.loc[passenger_id, 'Cabin']\n",
    "    \n",
    "    # check for null cabins\n",
    "    # null is a float apparently\n",
    "    if type(cabin) == float:\n",
    "        return '?'\n",
    "    else:\n",
    "        return str(cabin[0])\n",
    "        \n",
    "\n",
    "grouped = train.groupby(cabin_letter_group)\n",
    "survival_rates = grouped.Survived.mean()\n",
    "names = [name[0] for name in grouped]\n",
    "\n",
    "print \"Passengers in each cabin:\"\n",
    "print grouped.size()\n",
    "\n",
    "print \"\\n------------------------\\n\"\n",
    "\n",
    "print \"Survival Rates:\"\n",
    "print survival_rates\n",
    "\n",
    "ax = plt.subplot(111)\n",
    "\n",
    "x = range(len(names))\n",
    "ax.bar(x, survival_rates)\n",
    "\n",
    "ticks = map(lambda x: x + 0.5, x)\n",
    "plt.xticks(ticks, names)\n",
    "plt.title('Cabin Letter vs. Survival Rate')\n",
    "plt.xlabel('Cabin Letter')\n",
    "plt.ylabel('Survival Rate')\n",
    "plt.show()"
   ]
  },
  {
   "cell_type": "markdown",
   "metadata": {},
   "source": [
    "Because there are so few passengers in any of the labeled cabins, it is unlikely that the results are that meaningful."
   ]
  },
  {
   "cell_type": "markdown",
   "metadata": {},
   "source": [
    "####Embarked\n",
    "\n",
    "The embarked column shows the port where each passenger embarked. (C = Cherbourg; Q = Queenstown; S = Southampton)"
   ]
  },
  {
   "cell_type": "code",
   "execution_count": 287,
   "metadata": {
    "collapsed": false
   },
   "outputs": [
    {
     "data": {
      "image/png": "[encoded data removed]",
      "text/plain": [
       "<matplotlib.figure.Figure at 0x7f60bda14a10>"
      ]
     },
     "metadata": {},
     "output_type": "display_data"
    }
   ],
   "source": [
    "grouped = train.groupby('Embarked')\n",
    "survival_rates = grouped.Survived.mean()\n",
    "names = [name[0] for name in grouped]\n",
    "\n",
    "ax = plt.subplot(111)\n",
    "x = range(len(names))\n",
    "\n",
    "barwidth = 0.8\n",
    "ax.bar(x, survival_rates, width=barwidth)\n",
    "\n",
    "ticks = map(lambda x: x + barwidth/2, x)\n",
    "plt.xticks(ticks, names)\n",
    "plt.title('Port of Embarkation vs. Survival Rate')\n",
    "plt.xlabel('Port of Embarkation')\n",
    "plt.ylabel('Survival Rate')\n",
    "\n",
    "plt.show()"
   ]
  },
  {
   "cell_type": "markdown",
   "metadata": {},
   "source": [
    "It looks like passengers who embarked from Cherbourg were most likely to survive."
   ]
  },
  {
   "cell_type": "markdown",
   "metadata": {},
   "source": [
    "###Conclusions\n",
    "\n",
    "Just as expected, the most significant survival factors were sex, age, and socio-economic class. It also turns out that the amount a passenger paid is also a good indication of their survival. Most of the ramaining features do not appear to be important."
   ]
  },
  {
   "cell_type": "code",
   "execution_count": null,
   "metadata": {
    "collapsed": true
   },
   "outputs": [],
   "source": []
  }
 ],
 "metadata": {
  "kernelspec": {
   "display_name": "Python 2",
   "language": "python",
   "name": "python2"
  },
  "language_info": {
   "codemirror_mode": {
    "name": "ipython",
    "version": 2
   },
   "file_extension": ".py",
   "mimetype": "text/x-python",
   "name": "python",
   "nbconvert_exporter": "python",
   "pygments_lexer": "ipython2",
   "version": "2.7.11"
  }
 },
 "nbformat": 4,
 "nbformat_minor": 0
}
